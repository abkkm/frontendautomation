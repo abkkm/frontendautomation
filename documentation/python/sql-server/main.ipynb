{
 "cells": [
  {
   "cell_type": "code",
   "execution_count": 2,
   "metadata": {},
   "outputs": [
    {
     "ename": "ModuleNotFoundError",
     "evalue": "No module named 'pyodbc'",
     "output_type": "error",
     "traceback": [
      "\u001b[1;31m---------------------------------------------------------------------------\u001b[0m",
      "\u001b[1;31mModuleNotFoundError\u001b[0m                       Traceback (most recent call last)",
      "\u001b[1;32mc:\\1-2ndRound-From-30-Mar-2020\\Git-2022\\automation\\frontendautomation\\documentation\\python\\sql-server\\main.ipynb Cell 1\u001b[0m line \u001b[0;36m8\n\u001b[0;32m      <a href='vscode-notebook-cell:/c%3A/1-2ndRound-From-30-Mar-2020/Git-2022/automation/frontendautomation/documentation/python/sql-server/main.ipynb#W0sZmlsZQ%3D%3D?line=5'>6</a>\u001b[0m Driver\u001b[39m=\u001b[39m\u001b[39m'\u001b[39m\u001b[39mODBC Driver 17 for SQL Server\u001b[39m\u001b[39m'\u001b[39m\n\u001b[0;32m      <a href='vscode-notebook-cell:/c%3A/1-2ndRound-From-30-Mar-2020/Git-2022/automation/frontendautomation/documentation/python/sql-server/main.ipynb#W0sZmlsZQ%3D%3D?line=6'>7</a>\u001b[0m Database_Con \u001b[39m=\u001b[39m \u001b[39mf\u001b[39m\u001b[39m'\u001b[39m\u001b[39mmssql://@\u001b[39m\u001b[39m{\u001b[39;00mServer\u001b[39m}\u001b[39;00m\u001b[39m/\u001b[39m\u001b[39m{\u001b[39;00mDatabase\u001b[39m}\u001b[39;00m\u001b[39m?driver=\u001b[39m\u001b[39m{\u001b[39;00mDriver\u001b[39m}\u001b[39;00m\u001b[39m'\u001b[39m\n\u001b[1;32m----> <a href='vscode-notebook-cell:/c%3A/1-2ndRound-From-30-Mar-2020/Git-2022/automation/frontendautomation/documentation/python/sql-server/main.ipynb#W0sZmlsZQ%3D%3D?line=7'>8</a>\u001b[0m engine \u001b[39m=\u001b[39m create_engine(Database_Con)\n\u001b[0;32m      <a href='vscode-notebook-cell:/c%3A/1-2ndRound-From-30-Mar-2020/Git-2022/automation/frontendautomation/documentation/python/sql-server/main.ipynb#W0sZmlsZQ%3D%3D?line=8'>9</a>\u001b[0m con \u001b[39m=\u001b[39m engine\u001b[39m.\u001b[39mconnect()\n\u001b[0;32m     <a href='vscode-notebook-cell:/c%3A/1-2ndRound-From-30-Mar-2020/Git-2022/automation/frontendautomation/documentation/python/sql-server/main.ipynb#W0sZmlsZQ%3D%3D?line=10'>11</a>\u001b[0m df \u001b[39m=\u001b[39m pd\u001b[39m.\u001b[39mread_sql_squery(\u001b[39m\"\u001b[39m\u001b[39mselect * from emp\u001b[39m\u001b[39m\"\u001b[39m, con)\n",
      "File \u001b[1;32m<string>:2\u001b[0m, in \u001b[0;36mcreate_engine\u001b[1;34m(url, **kwargs)\u001b[0m\n",
      "File \u001b[1;32mc:\\Python\\Lib\\site-packages\\sqlalchemy\\util\\deprecations.py:281\u001b[0m, in \u001b[0;36mdeprecated_params.<locals>.decorate.<locals>.warned\u001b[1;34m(fn, *args, **kwargs)\u001b[0m\n\u001b[0;32m    274\u001b[0m     \u001b[39mif\u001b[39;00m m \u001b[39min\u001b[39;00m kwargs:\n\u001b[0;32m    275\u001b[0m         _warn_with_version(\n\u001b[0;32m    276\u001b[0m             messages[m],\n\u001b[0;32m    277\u001b[0m             versions[m],\n\u001b[0;32m    278\u001b[0m             version_warnings[m],\n\u001b[0;32m    279\u001b[0m             stacklevel\u001b[39m=\u001b[39m\u001b[39m3\u001b[39m,\n\u001b[0;32m    280\u001b[0m         )\n\u001b[1;32m--> 281\u001b[0m \u001b[39mreturn\u001b[39;00m fn(\u001b[39m*\u001b[39;49margs, \u001b[39m*\u001b[39;49m\u001b[39m*\u001b[39;49mkwargs)\n",
      "File \u001b[1;32mc:\\Python\\Lib\\site-packages\\sqlalchemy\\engine\\create.py:599\u001b[0m, in \u001b[0;36mcreate_engine\u001b[1;34m(url, **kwargs)\u001b[0m\n\u001b[0;32m    597\u001b[0m         \u001b[39mif\u001b[39;00m k \u001b[39min\u001b[39;00m kwargs:\n\u001b[0;32m    598\u001b[0m             dbapi_args[k] \u001b[39m=\u001b[39m pop_kwarg(k)\n\u001b[1;32m--> 599\u001b[0m     dbapi \u001b[39m=\u001b[39m dbapi_meth(\u001b[39m*\u001b[39;49m\u001b[39m*\u001b[39;49mdbapi_args)\n\u001b[0;32m    601\u001b[0m dialect_args[\u001b[39m\"\u001b[39m\u001b[39mdbapi\u001b[39m\u001b[39m\"\u001b[39m] \u001b[39m=\u001b[39m dbapi\n\u001b[0;32m    603\u001b[0m dialect_args\u001b[39m.\u001b[39msetdefault(\u001b[39m\"\u001b[39m\u001b[39mcompiler_linting\u001b[39m\u001b[39m\"\u001b[39m, compiler\u001b[39m.\u001b[39mNO_LINTING)\n",
      "File \u001b[1;32mc:\\Python\\Lib\\site-packages\\sqlalchemy\\connectors\\pyodbc.py:60\u001b[0m, in \u001b[0;36mPyODBCConnector.import_dbapi\u001b[1;34m(cls)\u001b[0m\n\u001b[0;32m     58\u001b[0m \u001b[39m@classmethod\u001b[39m\n\u001b[0;32m     59\u001b[0m \u001b[39mdef\u001b[39;00m \u001b[39mimport_dbapi\u001b[39m(\u001b[39mcls\u001b[39m) \u001b[39m-\u001b[39m\u001b[39m>\u001b[39m ModuleType:\n\u001b[1;32m---> 60\u001b[0m     \u001b[39mreturn\u001b[39;00m \u001b[39m__import__\u001b[39;49m(\u001b[39m\"\u001b[39;49m\u001b[39mpyodbc\u001b[39;49m\u001b[39m\"\u001b[39;49m)\n",
      "\u001b[1;31mModuleNotFoundError\u001b[0m: No module named 'pyodbc'"
     ]
    }
   ],
   "source": [
    "\n",
    "from sqlalchemy import create_engine\n",
    "import pandas as pd\n",
    "\n",
    "Server = 'ABL'\n",
    "Database='master'\n",
    "Driver='ODBC Driver 17 for SQL Server'\n",
    "Database_Con = f'mssql://@{Server}/{Database}?driver={Driver}'\n",
    "engine = create_engine(Database_Con)\n",
    "con = engine.connect()\n",
    "\n",
    "df = pd.read_sql_squery(\"select * from emp\", con)\n",
    "df\n"
   ]
  }
 ],
 "metadata": {
  "kernelspec": {
   "display_name": "Python 3",
   "language": "python",
   "name": "python3"
  },
  "language_info": {
   "codemirror_mode": {
    "name": "ipython",
    "version": 3
   },
   "file_extension": ".py",
   "mimetype": "text/x-python",
   "name": "python",
   "nbconvert_exporter": "python",
   "pygments_lexer": "ipython3",
   "version": "3.11.6"
  }
 },
 "nbformat": 4,
 "nbformat_minor": 2
}
